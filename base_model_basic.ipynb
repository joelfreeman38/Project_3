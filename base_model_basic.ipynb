{
 "cells": [
  {
   "cell_type": "markdown",
   "id": "ad638d48",
   "metadata": {},
   "source": [
    "# 🔍 Emotion Diagnosis Chatbot\n",
    "\n",
    "This notebook implements an emotion detection chatbot that:\n",
    "1. Analyzes user input to detect emotions\n",
    "2. Displays the top 5 detected emotions with probabilities\n",
    "3. Provides a supportive response based on the most prominent emotion\n",
    "\n",
    "The model uses RoBERTa fine-tuned on the GoEmotion dataset to classify text into 28 emotion categories.\n"
   ]
  },
  {
   "cell_type": "code",
   "execution_count": 1,
   "id": "790f8d3e",
   "metadata": {
    "trusted": false
   },
   "outputs": [
    {
     "name": "stdout",
     "output_type": "stream",
     "text": [
      "WARNING:tensorflow:From C:\\Users\\mward\\AppData\\Roaming\\Python\\Python310\\site-packages\\tf_keras\\src\\losses.py:2976: The name tf.losses.sparse_softmax_cross_entropy is deprecated. Please use tf.compat.v1.losses.sparse_softmax_cross_entropy instead.\n",
      "\n"
     ]
    },
    {
     "name": "stderr",
     "output_type": "stream",
     "text": [
      "Device set to use cuda:0\n"
     ]
    },
    {
     "name": "stdout",
     "output_type": "stream",
     "text": [
      "[{'label': 'disappointment', 'score': 0.4666960835456848}, {'label': 'sadness', 'score': 0.39849406480789185}, {'label': 'annoyance', 'score': 0.06806620210409164}]\n"
     ]
    }
   ],
   "source": [
    "from transformers import pipeline\n",
    "\n",
    "classifier = pipeline(task=\"text-classification\", model=\"SamLowe/roberta-base-go_emotions\", top_k=3)\n",
    "\n",
    "sentences = [\"I am not having a great day\"]\n",
    "\n",
    "model_outputs = classifier(sentences)\n",
    "print(model_outputs[0])\n",
    "# produces a list of dicts for each of the labels\n"
   ]
  },
  {
   "cell_type": "code",
   "execution_count": 2,
   "id": "5415f648",
   "metadata": {},
   "outputs": [
    {
     "name": "stdout",
     "output_type": "stream",
     "text": [
      "tensor([[-4.1002, -5.1369, -6.0304, -5.4548, -4.0656, -4.5185, -5.5510, -5.3158,\n",
      "         -5.7794, -6.4316, -5.7764, -7.2868, -6.9423, -0.8849, -6.0029, -4.2207,\n",
      "         -6.6857,  1.0582, -5.0907, -5.3239, -5.2117, -5.2881, -5.2649, -4.1161,\n",
      "         -7.2856, -5.6387, -4.9640, -3.2989]], grad_fn=<AddmmBackward0>)\n"
     ]
    }
   ],
   "source": [
    "from transformers import AutoTokenizer, AutoModelForSequenceClassification\n",
    "\n",
    "# Load the tokenizer and model\n",
    "tokenizer = AutoTokenizer.from_pretrained(\"SamLowe/roberta-base-go_emotions\")\n",
    "model = AutoModelForSequenceClassification.from_pretrained(\"SamLowe/roberta-base-go_emotions\")\n",
    "\n",
    "# Perform inference\n",
    "text = \"I'm feeling so joyful today!\"\n",
    "inputs = tokenizer(text, return_tensors=\"pt\", padding=True, truncation=True)\n",
    "outputs = model(**inputs)\n",
    "\n",
    "# Emotion logits\n",
    "print(outputs.logits)"
   ]
  },
  {
   "cell_type": "code",
   "execution_count": null,
   "id": "ef624233",
   "metadata": {},
   "outputs": [],
   "source": []
  }
 ],
 "metadata": {
  "kernelspec": {
   "display_name": "dev2",
   "language": "python",
   "name": "python3"
  },
  "language_info": {
   "codemirror_mode": {
    "name": "ipython",
    "version": 3
   },
   "file_extension": ".py",
   "mimetype": "text/x-python",
   "name": "python",
   "nbconvert_exporter": "python",
   "pygments_lexer": "ipython3",
   "version": "3.10.16"
  }
 },
 "nbformat": 4,
 "nbformat_minor": 5
}
