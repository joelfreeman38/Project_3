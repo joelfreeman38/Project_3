{
 "cells": [
  {
   "cell_type": "code",
   "execution_count": 1,
   "id": "010487b3",
   "metadata": {},
   "outputs": [
    {
     "name": "stdout",
     "output_type": "stream",
     "text": [
      "Requirement already satisfied: datasets in c:\\users\\mward\\anaconda3\\envs\\dev2\\lib\\site-packages (3.5.0)\n",
      "Requirement already satisfied: filelock in c:\\users\\mward\\anaconda3\\envs\\dev2\\lib\\site-packages (from datasets) (3.13.1)\n",
      "Requirement already satisfied: numpy>=1.17 in c:\\users\\mward\\anaconda3\\envs\\dev2\\lib\\site-packages (from datasets) (1.26.4)\n",
      "Requirement already satisfied: pyarrow>=15.0.0 in c:\\users\\mward\\anaconda3\\envs\\dev2\\lib\\site-packages (from datasets) (19.0.1)\n",
      "Requirement already satisfied: dill<0.3.9,>=0.3.0 in c:\\users\\mward\\anaconda3\\envs\\dev2\\lib\\site-packages (from datasets) (0.3.8)\n",
      "Requirement already satisfied: pandas in c:\\users\\mward\\anaconda3\\envs\\dev2\\lib\\site-packages (from datasets) (2.2.3)\n",
      "Requirement already satisfied: requests>=2.32.2 in c:\\users\\mward\\anaconda3\\envs\\dev2\\lib\\site-packages (from datasets) (2.32.3)\n",
      "Requirement already satisfied: tqdm>=4.66.3 in c:\\users\\mward\\anaconda3\\envs\\dev2\\lib\\site-packages (from datasets) (4.67.1)\n",
      "Requirement already satisfied: xxhash in c:\\users\\mward\\anaconda3\\envs\\dev2\\lib\\site-packages (from datasets) (3.5.0)\n",
      "Requirement already satisfied: multiprocess<0.70.17 in c:\\users\\mward\\anaconda3\\envs\\dev2\\lib\\site-packages (from datasets) (0.70.16)\n",
      "Requirement already satisfied: fsspec<=2024.12.0,>=2023.1.0 in c:\\users\\mward\\anaconda3\\envs\\dev2\\lib\\site-packages (from fsspec[http]<=2024.12.0,>=2023.1.0->datasets) (2024.12.0)\n",
      "Requirement already satisfied: aiohttp in c:\\users\\mward\\anaconda3\\envs\\dev2\\lib\\site-packages (from datasets) (3.11.15)\n",
      "Requirement already satisfied: huggingface-hub>=0.24.0 in c:\\users\\mward\\anaconda3\\envs\\dev2\\lib\\site-packages (from datasets) (0.30.1)\n",
      "Requirement already satisfied: packaging in c:\\users\\mward\\anaconda3\\envs\\dev2\\lib\\site-packages (from datasets) (24.2)\n",
      "Requirement already satisfied: pyyaml>=5.1 in c:\\users\\mward\\anaconda3\\envs\\dev2\\lib\\site-packages (from datasets) (6.0.2)\n",
      "Requirement already satisfied: aiohappyeyeballs>=2.3.0 in c:\\users\\mward\\anaconda3\\envs\\dev2\\lib\\site-packages (from aiohttp->datasets) (2.6.1)\n",
      "Requirement already satisfied: aiosignal>=1.1.2 in c:\\users\\mward\\anaconda3\\envs\\dev2\\lib\\site-packages (from aiohttp->datasets) (1.3.2)\n",
      "Requirement already satisfied: async-timeout<6.0,>=4.0 in c:\\users\\mward\\anaconda3\\envs\\dev2\\lib\\site-packages (from aiohttp->datasets) (5.0.1)\n",
      "Requirement already satisfied: attrs>=17.3.0 in c:\\users\\mward\\anaconda3\\envs\\dev2\\lib\\site-packages (from aiohttp->datasets) (25.3.0)\n",
      "Requirement already satisfied: frozenlist>=1.1.1 in c:\\users\\mward\\anaconda3\\envs\\dev2\\lib\\site-packages (from aiohttp->datasets) (1.5.0)\n",
      "Requirement already satisfied: multidict<7.0,>=4.5 in c:\\users\\mward\\anaconda3\\envs\\dev2\\lib\\site-packages (from aiohttp->datasets) (6.3.1)\n",
      "Requirement already satisfied: propcache>=0.2.0 in c:\\users\\mward\\anaconda3\\envs\\dev2\\lib\\site-packages (from aiohttp->datasets) (0.3.1)\n",
      "Requirement already satisfied: yarl<2.0,>=1.17.0 in c:\\users\\mward\\anaconda3\\envs\\dev2\\lib\\site-packages (from aiohttp->datasets) (1.18.3)\n",
      "Requirement already satisfied: typing-extensions>=3.7.4.3 in c:\\users\\mward\\anaconda3\\envs\\dev2\\lib\\site-packages (from huggingface-hub>=0.24.0->datasets) (4.13.0)\n",
      "Requirement already satisfied: charset-normalizer<4,>=2 in c:\\users\\mward\\anaconda3\\envs\\dev2\\lib\\site-packages (from requests>=2.32.2->datasets) (3.3.2)\n",
      "Requirement already satisfied: idna<4,>=2.5 in c:\\users\\mward\\anaconda3\\envs\\dev2\\lib\\site-packages (from requests>=2.32.2->datasets) (3.10)\n",
      "Requirement already satisfied: urllib3<3,>=1.21.1 in c:\\users\\mward\\anaconda3\\envs\\dev2\\lib\\site-packages (from requests>=2.32.2->datasets) (2.3.0)\n",
      "Requirement already satisfied: certifi>=2017.4.17 in c:\\users\\mward\\anaconda3\\envs\\dev2\\lib\\site-packages (from requests>=2.32.2->datasets) (2025.1.31)\n",
      "Requirement already satisfied: colorama in c:\\users\\mward\\anaconda3\\envs\\dev2\\lib\\site-packages (from tqdm>=4.66.3->datasets) (0.4.6)\n",
      "Requirement already satisfied: python-dateutil>=2.8.2 in c:\\users\\mward\\anaconda3\\envs\\dev2\\lib\\site-packages (from pandas->datasets) (2.9.0.post0)\n",
      "Requirement already satisfied: pytz>=2020.1 in c:\\users\\mward\\anaconda3\\envs\\dev2\\lib\\site-packages (from pandas->datasets) (2025.2)\n",
      "Requirement already satisfied: tzdata>=2022.7 in c:\\users\\mward\\anaconda3\\envs\\dev2\\lib\\site-packages (from pandas->datasets) (2025.2)\n",
      "Requirement already satisfied: six>=1.5 in c:\\users\\mward\\anaconda3\\envs\\dev2\\lib\\site-packages (from python-dateutil>=2.8.2->pandas->datasets) (1.17.0)\n"
     ]
    }
   ],
   "source": [
    "# CELL 1\n",
    "# Install datasets package if not already installed\n",
    "!pip install datasets\n"
   ]
  },
  {
   "cell_type": "code",
   "execution_count": 2,
   "id": "d1a361f6",
   "metadata": {},
   "outputs": [],
   "source": [
    "# CELL 2\n",
    "# Import the required library\n",
    "from datasets import load_dataset\n",
    "import pandas as pd\n",
    "import os\n"
   ]
  },
  {
   "cell_type": "code",
   "execution_count": 3,
   "id": "e326e545",
   "metadata": {},
   "outputs": [],
   "source": [
    "# CELL 3\n",
    "# Create data directory if it doesn't exist\n",
    "os.makedirs('./data', exist_ok=True)\n"
   ]
  },
  {
   "cell_type": "code",
   "execution_count": 4,
   "id": "0010c3f4",
   "metadata": {},
   "outputs": [],
   "source": [
    "# CELL 4\n",
    "# Load and export to CSV\n",
    "\n",
    "# Dataset 5: Mental Health FAQ\n",
    "ds5 = load_dataset('tolu07/Mental_Health_FAQ')['train'].to_pandas()\n",
    "ds5.to_csv('./data/ds5_Mental_Health_FAQ.csv', index=False)\n",
    "\n",
    "# Dataset 6: Mental Health Counseling Conversations\n",
    "ds6 = load_dataset('Amod/mental_health_counseling_conversations')['train'].to_pandas()\n",
    "ds6.to_csv('./data/ds6_mental_health_counseling.csv', index=False)\n",
    "\n",
    "# Dataset 7: AI Medical Chatbot\n",
    "ds7 = load_dataset('ruslanmv/ai-medical-chatbot')['train'].to_pandas()\n",
    "ds7.to_csv('./data/ds7_ai_medical_chatbot.csv', index=False)\n",
    "\n",
    "# Dataset 8: ChatDoctor HealthCareMagic\n",
    "ds8 = load_dataset('lavita/ChatDoctor-HealthCareMagic-100k')['train'].to_pandas()\n",
    "ds8.to_csv('./data/ds8_ChatDoctor_HealthCareMagic.csv', index=False)\n"
   ]
  },
  {
   "cell_type": "code",
   "execution_count": 5,
   "id": "d13fc902",
   "metadata": {},
   "outputs": [
    {
     "name": "stdout",
     "output_type": "stream",
     "text": [
      "Files saved in ./data directory:\n",
      "['ds5_Mental_Health_FAQ.csv', 'ds6_mental_health_counseling.csv', 'ds7_ai_medical_chatbot.csv', 'ds8_ChatDoctor_HealthCareMagic.csv', 'emotion_labeled_dataset.csv', 'Mental Health Chatbot Dataset - Friend mode and Professional mode Responses.csv', 'mental_health_chatbot_dataset_hf.parquet', 'mental_health_chatbot_dataset_merged_modes.csv', 'mental_health_faq.csv', 'mental_health_faq_cleaned.csv', 'transformed_mental_health_chatbot.csv', 'transformed_mental_health_chatbot_dataset.csv', 'unified_mental_health_chatbot_dataset.csv']\n"
     ]
    }
   ],
   "source": [
    "# CELL 5\n",
    "# Confirm files saved\n",
    "print(\"Files saved in ./data directory:\")\n",
    "print(os.listdir('./data'))\n"
   ]
  },
  {
   "cell_type": "code",
   "execution_count": null,
   "id": "2f377e7a",
   "metadata": {},
   "outputs": [],
   "source": []
  },
  {
   "cell_type": "code",
   "execution_count": null,
   "id": "8e856358",
   "metadata": {},
   "outputs": [],
   "source": []
  }
 ],
 "metadata": {
  "kernelspec": {
   "display_name": "dev2",
   "language": "python",
   "name": "python3"
  },
  "language_info": {
   "codemirror_mode": {
    "name": "ipython",
    "version": 3
   },
   "file_extension": ".py",
   "mimetype": "text/x-python",
   "name": "python",
   "nbconvert_exporter": "python",
   "pygments_lexer": "ipython3",
   "version": "3.10.16"
  }
 },
 "nbformat": 4,
 "nbformat_minor": 5
}
